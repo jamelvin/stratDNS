{
 "cells": [
  {
   "cell_type": "code",
   "execution_count": 2,
   "metadata": {},
   "outputs": [],
   "source": [
    "import netCDF4 as nc\n",
    "import numpy as np"
   ]
  },
  {
   "cell_type": "code",
   "execution_count": 23,
   "metadata": {},
   "outputs": [],
   "source": [
    "### Initial Conditions\n",
    "coords = np.array([[0.75,0.25,0.25],\n",
    "                   [1.0,0.0,0.0],\n",
    "                   [1.0,1.0,0.0],\n",
    "                   [0.0,1.0,0.0],\n",
    "                   [0.0,0.0,1.0],\n",
    "                   [1.0,0.0,1.0],\n",
    "                   [1.0,1.0,1.0],\n",
    "                   [0.0,1.0,1.0]])\n",
    "visc = .0001\n",
    "tvisc = 0.3\n",
    "vel = np.array([-0.139725, 0.5442336, 0.0]) #np.array([-0.18141120257952625,-0.3185887974204738+0.5,0.0])\n",
    "avgVel = np.array([0.5, 0.5, 0.5])\n",
    "avgDensity = 1.0\n",
    "avgResAdeq = 0.7\n",
    "minDist = 0.7\n",
    "metric = np.array([[0.2,0.2,0.2],[0.2,0.2,0.2],[0.2,0.2,0.2]])\n",
    "density = 1.0\n",
    "tke = 2.12533 #2.1627161093038669\n",
    "tdr = 2.02826 #2.0366911864642083\n",
    "alpha = 0.562663 #0.581358\n",
    "time = 1.0 - 440.0\n",
    "dt = 0.1"
   ]
  },
  {
   "cell_type": "code",
   "execution_count": 26,
   "metadata": {},
   "outputs": [
    {
     "name": "stdout",
     "output_type": "stream",
     "text": [
      "[0.75 0.25 0.25] 0.0001 0.3 1.0 2.12533 2.02826 0.562663 0.7 0.5 0.5 -0.639725 0.044233599999999984\n",
      "[ 7.99870841e-16 -2.97651445e-01 -1.07508594e-14]\n",
      "[ 9.28711536e-16 -3.45596210e-01 -1.24825742e-14] [-0.639725   0.0442336 -0.5      ]\n",
      "0.0 0.7 -0.015286964507286102 11.610768746505324\n"
     ]
    }
   ],
   "source": [
    "V2F_C_MU = 0.22\n",
    "V2F_CETA = 70.00\n",
    "V2F_CT = 6.00\n",
    "BL_KOL = 1.0\n",
    "BL_T = 1.0\n",
    "FORCING_CL = 4.0\n",
    "FORCING_FACTOR = 8.0\n",
    "d_plus = minDist/visc\n",
    "f_mu = 1.0 - np.exp(-0.0115*d_plus)\n",
    "AF_LPX = 3.14159265359\n",
    "AF_LPY = 0.25\n",
    "AF_LPZ = 1.1780972450961724\n",
    "\n",
    "print coords[0], visc, tvisc, density, tke, tdr, alpha, minDist, avgVel[0], avgVel[1], vel[0]-avgVel[0], vel[1]-avgVel[1]\n",
    "\n",
    "c_k = tke\n",
    "#c_v2 = np.minimum(0.09*f_mu/V2F_C_MU, 2.0/3.0)*np.maximum(c_k,0.0)\n",
    "c_v2 = tvisc*tdr / (0.22*np.maximum(c_k,0.0))\n",
    "c_d = tdr\n",
    "c_a = alpha\n",
    "\n",
    "length = FORCING_CL*(c_a*c_k)**1.5/c_d\n",
    "length = np.maximum(length, V2F_CETA*(visc**(0.75))/(c_d**(0.25)) )\n",
    "T_alpha = c_a*c_k/c_d\n",
    "T_alpha = np.maximum(T_alpha,V2F_CT*np.sqrt(visc/c_d))\n",
    "T_alpha = BL_T*T_alpha\n",
    "T_kol = np.sqrt(visc/c_d)\n",
    "zeta_lcl = 1.5*c_v2/c_k\n",
    "\n",
    "xp = coords[0] + time*avgVel\n",
    "lengthY = np.minimum(length, minDist)\n",
    "ax = np.pi/(AF_LPX/float(np.rint((AF_LPX)/np.minimum(np.maximum(length,2.0*metric[0][0]),AF_LPX))))\n",
    "ay = np.pi/(AF_LPY/float(np.rint((AF_LPY)/np.minimum(np.maximum(lengthY,2.0*metric[1][1]),AF_LPY))))\n",
    "az = np.pi/(AF_LPZ/float(np.rint((AF_LPZ)/np.minimum(np.maximum(length,2.0*metric[2][2]),AF_LPZ))))\n",
    "\n",
    "g1 =  1.0 * np.cos(ax*xp[0]) * np.sin(ay*xp[1]) * np.sin(az*xp[2])\n",
    "g2 = -3.0 * np.sin(ax*xp[0]) * np.cos(ay*xp[1]) * np.sin(az*xp[2])\n",
    "g3 =  2.0 * np.sin(ax*xp[0]) * np.sin(ay*xp[1]) * np.cos(az*xp[2])\n",
    "\n",
    "g_inst = np.zeros(3)\n",
    "g_inst[0] = g1/3.0\n",
    "g_inst[1] = g2/3.0\n",
    "g_inst[2] = g3/3.0\n",
    "\n",
    "print g_inst\n",
    "\n",
    "u_prime = vel - avgVel\n",
    "\n",
    "F_target = FORCING_FACTOR * np.sqrt(c_a*c_v2)/T_alpha\n",
    "\n",
    "prod_r = np.dot((F_target*dt)*g_inst, u_prime)\n",
    "print (F_target*dt)*g_inst, u_prime\n",
    "arg = np.sqrt(avgResAdeq) - 1.0\n",
    "if(arg < 0.0): \n",
    "    arg = 1.0 - 1.0/np.sqrt(avgResAdeq)\n",
    "a_sign = np.tanh(arg)\n",
    "\n",
    "Sa = a_sign\n",
    "a_kol = np.minimum(BL_KOL*np.sqrt(visc*c_d)/(c_k),1.0)\n",
    "\n",
    "if (a_sign < 0.0):\n",
    "    if( c_a <= a_kol):\n",
    "        Sa = Sa - (1.0+a_kol-c_a)*a_sign    \n",
    "else:\n",
    "    if(c_a >= 1.0):\n",
    "        Sa = Sa - c_a*a_sign\n",
    "\n",
    "prod_temp = (c_a*c_k/T_alpha)*Sa\n",
    "\n",
    "fd_temp = avgResAdeq\n",
    "\n",
    "if(fd_temp < 1.0 and prod_r >= 0.0):\n",
    "    C_F = -1.0 * F_target * Sa\n",
    "else:\n",
    "    C_F = 0.0\n",
    "    \n",
    "norm = C_F\n",
    "print norm, fd_temp, prod_r, F_target\n",
    "\n",
    "g_inst[0] = norm*g_inst[0]\n",
    "g_inst[1] = norm*g_inst[1]\n",
    "g_inst[2] = norm*g_inst[2]\n"
   ]
  },
  {
   "cell_type": "code",
   "execution_count": 27,
   "metadata": {},
   "outputs": [
    {
     "data": {
      "text/plain": [
       "array([ 0., -0., -0.])"
      ]
     },
     "execution_count": 27,
     "metadata": {},
     "output_type": "execute_result"
    }
   ],
   "source": [
    "g_inst"
   ]
  },
  {
   "cell_type": "code",
   "execution_count": 72,
   "metadata": {},
   "outputs": [
    {
     "data": {
      "text/plain": [
       "array([-219.25, -219.25, -219.25])"
      ]
     },
     "execution_count": 72,
     "metadata": {},
     "output_type": "execute_result"
    }
   ],
   "source": [
    "xp"
   ]
  },
  {
   "cell_type": "code",
   "execution_count": 73,
   "metadata": {},
   "outputs": [
    {
     "data": {
      "text/plain": [
       "12.566370614359172"
      ]
     },
     "execution_count": 73,
     "metadata": {},
     "output_type": "execute_result"
    }
   ],
   "source": [
    "ay"
   ]
  },
  {
   "cell_type": "code",
   "execution_count": 74,
   "metadata": {},
   "outputs": [
    {
     "data": {
      "text/plain": [
       "array([0.25, 0.25, 0.25])"
      ]
     },
     "execution_count": 74,
     "metadata": {},
     "output_type": "execute_result"
    }
   ],
   "source": [
    "coords[0]"
   ]
  },
  {
   "cell_type": "code",
   "execution_count": 75,
   "metadata": {},
   "outputs": [
    {
     "data": {
      "text/plain": [
       "2.6666666666666665"
      ]
     },
     "execution_count": 75,
     "metadata": {},
     "output_type": "execute_result"
    }
   ],
   "source": [
    "az"
   ]
  },
  {
   "cell_type": "code",
   "execution_count": null,
   "metadata": {},
   "outputs": [],
   "source": [
    "time_temp = c_k/c_d\n",
    "time_des(icv) = MAX(time_temp,V2F_CT*sqrt(constant_nu_value/c_d))\n",
    "time_des(icv) = MIN(time_des(icv), V2F_ALPHA * v2f_tke(icv) / max(sqrt(6.0_WP)*V2F_C_MU*v2f_v2(icv)*strain,1.0E-12_WP) )\n"
   ]
  }
 ],
 "metadata": {
  "kernelspec": {
   "display_name": "Python 2",
   "language": "python",
   "name": "python2"
  },
  "language_info": {
   "codemirror_mode": {
    "name": "ipython",
    "version": 2
   },
   "file_extension": ".py",
   "mimetype": "text/x-python",
   "name": "python",
   "nbconvert_exporter": "python",
   "pygments_lexer": "ipython2",
   "version": "2.7.11"
  }
 },
 "nbformat": 4,
 "nbformat_minor": 2
}
